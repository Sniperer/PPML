{
 "cells": [
  {
   "cell_type": "code",
   "execution_count": 1,
   "metadata": {},
   "outputs": [],
   "source": [
    "import tensorflow as tf\n",
    "from tensorflow.keras import layers, models\n",
    "import keras\n",
    "import numpy as np\n",
    "import matplotlib.pyplot as plt"
   ]
  },
  {
   "cell_type": "markdown",
   "metadata": {},
   "source": [
    "## 1. get data and train model"
   ]
  },
  {
   "cell_type": "code",
   "execution_count": 2,
   "metadata": {},
   "outputs": [],
   "source": [
    "# download dataset\n",
    "(x_train, y_train), (x_test, y_test) = tf.keras.datasets.mnist.load_data()\n",
    "\n",
    "# only keep label 0 and 1\n",
    "train_filter = (y_train == 0) | (y_train == 1)\n",
    "x_train, y_train = x_train[train_filter], y_train[train_filter]\n",
    "test_filter = (y_test == 0) | (y_test == 1)\n",
    "x_test, y_test = x_test[test_filter], y_test[test_filter]\n",
    "\n",
    "# data preprocessingg\n",
    "x_train, x_test = x_train / 255.0, x_test / 255.0\n",
    "x_train = x_train.reshape((-1, 28 * 28))\n",
    "x_test = x_test.reshape((-1, 28 * 28))"
   ]
  },
  {
   "cell_type": "code",
   "execution_count": 10,
   "metadata": {},
   "outputs": [
    {
     "name": "stdout",
     "output_type": "stream",
     "text": [
      "Epoch 1/5\n",
      "\u001b[1m13/13\u001b[0m \u001b[32m━━━━━━━━━━━━━━━━━━━━\u001b[0m\u001b[37m\u001b[0m \u001b[1m1s\u001b[0m 20ms/step - accuracy: 0.7077 - loss: 3.2533 - val_accuracy: 0.9357 - val_loss: 0.5406\n",
      "Epoch 2/5\n",
      "\u001b[1m13/13\u001b[0m \u001b[32m━━━━━━━━━━━━━━━━━━━━\u001b[0m\u001b[37m\u001b[0m \u001b[1m0s\u001b[0m 7ms/step - accuracy: 0.9370 - loss: 0.5649 - val_accuracy: 0.9702 - val_loss: 0.1727\n",
      "Epoch 3/5\n",
      "\u001b[1m13/13\u001b[0m \u001b[32m━━━━━━━━━━━━━━━━━━━━\u001b[0m\u001b[37m\u001b[0m \u001b[1m0s\u001b[0m 5ms/step - accuracy: 0.9701 - loss: 0.2191 - val_accuracy: 0.9915 - val_loss: 0.0541\n",
      "Epoch 4/5\n",
      "\u001b[1m13/13\u001b[0m \u001b[32m━━━━━━━━━━━━━━━━━━━━\u001b[0m\u001b[37m\u001b[0m \u001b[1m0s\u001b[0m 6ms/step - accuracy: 0.9867 - loss: 0.0933 - val_accuracy: 0.9915 - val_loss: 0.0552\n",
      "Epoch 5/5\n",
      "\u001b[1m13/13\u001b[0m \u001b[32m━━━━━━━━━━━━━━━━━━━━\u001b[0m\u001b[37m\u001b[0m \u001b[1m0s\u001b[0m 5ms/step - accuracy: 0.9923 - loss: 0.0559 - val_accuracy: 0.9953 - val_loss: 0.0537\n"
     ]
    }
   ],
   "source": [
    "\n",
    "def square_activation(x):\n",
    "    return tf.square(x) - x\n",
    "\n",
    "model = models.Sequential([\n",
    "    layers.Dense(64, activation=square_activation, input_shape=(28 * 28,)),\n",
    "    layers.Dense(1, activation=square_activation)\n",
    "])\n",
    "\n",
    "\"\"\"\n",
    "model = models.Sequential([\n",
    "    layers.Dense(64, activation='sigmoid', input_shape=(28 * 28,)),\n",
    "    layers.Dense(1, activation='sigmoid')\n",
    "])\n",
    "\"\"\"\n",
    "\n",
    "\n",
    "model.compile(optimizer='adam',\n",
    "              loss='binary_crossentropy',\n",
    "              metrics=['accuracy'])\n",
    "\n",
    "history = model.fit(x_train, y_train, epochs=5, batch_size=1024, validation_data=(x_test, y_test))"
   ]
  },
  {
   "cell_type": "code",
   "execution_count": 6,
   "metadata": {},
   "outputs": [],
   "source": [
    "def show_history():\n",
    "    plt.plot(history.history['accuracy'], label='train_acc')\n",
    "    plt.plot(history.history['val_accuracy'], label='test_acc')\n",
    "    plt.xlabel('Epoch')\n",
    "    plt.ylabel('Accuracy')\n",
    "    plt.legend()\n",
    "    plt.show()"
   ]
  },
  {
   "cell_type": "code",
   "execution_count": 11,
   "metadata": {},
   "outputs": [
    {
     "name": "stdout",
     "output_type": "stream",
     "text": [
      "\u001b[1m67/67\u001b[0m \u001b[32m━━━━━━━━━━━━━━━━━━━━\u001b[0m\u001b[37m\u001b[0m \u001b[1m0s\u001b[0m 1ms/step - accuracy: 0.9978 - loss: 0.0308\n",
      "test_acc 0.9953\n"
     ]
    }
   ],
   "source": [
    "test_loss, test_acc = model.evaluate(x_test, y_test)\n",
    "print(f\"test_acc {test_acc:.4f}\")"
   ]
  },
  {
   "cell_type": "markdown",
   "metadata": {},
   "source": [
    "## 2. save and load model"
   ]
  },
  {
   "cell_type": "code",
   "execution_count": 3,
   "metadata": {},
   "outputs": [
    {
     "ename": "NameError",
     "evalue": "name 'model' is not defined",
     "output_type": "error",
     "traceback": [
      "\u001b[1;31m---------------------------------------------------------------------------\u001b[0m",
      "\u001b[1;31mNameError\u001b[0m                                 Traceback (most recent call last)",
      "Cell \u001b[1;32mIn[3], line 1\u001b[0m\n\u001b[1;32m----> 1\u001b[0m \u001b[43mmodel\u001b[49m\u001b[38;5;241m.\u001b[39msave(\u001b[38;5;124m'\u001b[39m\u001b[38;5;124mNN_model_sig.keras\u001b[39m\u001b[38;5;124m'\u001b[39m)\n",
      "\u001b[1;31mNameError\u001b[0m: name 'model' is not defined"
     ]
    }
   ],
   "source": [
    "model.save('NN_model_sig.keras')"
   ]
  },
  {
   "cell_type": "code",
   "execution_count": 13,
   "metadata": {},
   "outputs": [],
   "source": [
    "model.save('NN_model_square_activation.keras')"
   ]
  },
  {
   "cell_type": "code",
   "execution_count": 4,
   "metadata": {},
   "outputs": [],
   "source": [
    "model = keras.models.load_model('NN_model_sig.keras')\n"
   ]
  },
  {
   "cell_type": "code",
   "execution_count": null,
   "metadata": {},
   "outputs": [],
   "source": [
    "model = keras.models.load_model('NN_model_square_activation.keras')\n"
   ]
  },
  {
   "cell_type": "code",
   "execution_count": 5,
   "metadata": {},
   "outputs": [
    {
     "data": {
      "text/plain": [
       "50305"
      ]
     },
     "execution_count": 5,
     "metadata": {},
     "output_type": "execute_result"
    }
   ],
   "source": [
    "model.count_params()"
   ]
  },
  {
   "cell_type": "code",
   "execution_count": 13,
   "metadata": {},
   "outputs": [],
   "source": [
    "def compute_output_by_weight(data_point, weights) -> float:\n",
    "    a1 = []\n",
    "    # layer 1\n",
    "    for j in range(64):  \n",
    "        z1 = 0  \n",
    "        for i in range(28 * 28): \n",
    "            z1 += data_point[i] * weights[0][i][j]  \n",
    "        \n",
    "        z1 += weights[1][j] \n",
    "        print(j, z1, 1 / (1 + np.exp(-z1)))\n",
    "        a1.append(1 / (1 + np.exp(-z1))  )\n",
    "    \n",
    "    # layer 2\n",
    "    output = 0  \n",
    "    for j in range(1):  \n",
    "        z2 = 0  \n",
    "        for i in range(64):  \n",
    "            z2 += a1[i] * weights[2][i][j]  \n",
    "        z2 += weights[3][j]  \n",
    "        output = 1 / (1 + np.exp(-z2))\n",
    "    print(f\"z2:{z2}\")\n",
    "    return output\n",
    "    "
   ]
  },
  {
   "cell_type": "code",
   "execution_count": 7,
   "metadata": {},
   "outputs": [
    {
     "name": "stdout",
     "output_type": "stream",
     "text": [
      "Layer 0 weights shape: (784, 64)\n",
      "Layer 1 weights shape: (64,)\n",
      "Layer 2 weights shape: (64, 1)\n",
      "Layer 3 weights shape: (1,)\n"
     ]
    }
   ],
   "source": [
    "weights = model.get_weights()\n",
    "for i, weight in enumerate(weights):\n",
    "    print(f\"Layer {i} weights shape: {weight.shape}\")\n"
   ]
  },
  {
   "cell_type": "code",
   "execution_count": 12,
   "metadata": {},
   "outputs": [
    {
     "data": {
      "text/plain": [
       "1"
      ]
     },
     "execution_count": 12,
     "metadata": {},
     "output_type": "execute_result"
    }
   ],
   "source": [
    "len(weights[3])"
   ]
  },
  {
   "cell_type": "code",
   "execution_count": 22,
   "metadata": {},
   "outputs": [
    {
     "name": "stdout",
     "output_type": "stream",
     "text": [
      "\u001b[1m1/1\u001b[0m \u001b[32m━━━━━━━━━━━━━━━━━━━━\u001b[0m\u001b[37m\u001b[0m \u001b[1m0s\u001b[0m 64ms/step\n",
      "[[0.9998373]]\n"
     ]
    }
   ],
   "source": [
    "# how the value is computed\n",
    "data_point = x_test[0].reshape(1, 28 * 28)  \n",
    "output = model.predict(data_point)\n",
    "print(output)"
   ]
  },
  {
   "cell_type": "code",
   "execution_count": 14,
   "metadata": {},
   "outputs": [
    {
     "name": "stdout",
     "output_type": "stream",
     "text": [
      "0 -1.3994797354153192 0.1978986825533113\n",
      "1 -1.6132311404390518 0.16614049537055994\n",
      "2 1.945045262408973 0.8749053723381297\n",
      "3 2.201067094975973 0.9003452954411929\n",
      "4 2.6923439086442262 0.936573361073289\n",
      "5 1.4170386094627356 0.8048737439702651\n",
      "6 -1.9720044762991813 0.12217374924239087\n",
      "7 -1.4531158196465936 0.18952250146211905\n",
      "8 1.626653036592967 0.8357106223139326\n",
      "9 -1.6514388542562977 0.16091457912600907\n",
      "10 2.143213521986834 0.8950329011589654\n",
      "11 -1.5494892125278166 0.1751600539876168\n",
      "12 1.7648297075364803 0.8538135156597884\n",
      "13 -1.5610558859282633 0.17349518646932702\n",
      "14 3.776337694621408 0.9776065261712433\n",
      "15 -1.6933873126584593 0.15533089478761383\n",
      "16 -1.5400169768165255 0.17653280686314787\n",
      "17 1.7220186491551643 0.8483886684136601\n",
      "18 -1.580775355230135 0.17068570084167906\n",
      "19 3.2276991681177543 0.9618634430766423\n",
      "20 1.976139312891253 0.8782690085891208\n",
      "21 -1.8841984226057926 0.13190737791534674\n",
      "22 -1.4080093485631922 0.19654822422600715\n",
      "23 -1.487930071363956 0.1842326156667387\n",
      "24 -1.4475912673287288 0.19037254914710472\n",
      "25 -2.1839141194361673 0.1012043355331831\n",
      "26 1.590361633877197 0.8306669763352517\n",
      "27 -1.6467947674239531 0.16154261660173144\n",
      "28 -1.324250016777317 0.2101120704690743\n",
      "29 -2.2450536986438596 0.09577697749155702\n",
      "30 1.6003397283326912 0.8320658614983255\n",
      "31 -1.441336977378209 0.19133839533393268\n",
      "32 1.8884751802655027 0.8685815738135579\n",
      "33 -1.3550590087781775 0.20504451641660143\n",
      "34 2.441274518970692 0.9199210272268101\n",
      "35 -1.67120267633513 0.15826389673396438\n",
      "36 1.5042247464478604 0.8182037369399955\n",
      "37 -1.4541467724294936 0.1893641939628254\n",
      "38 1.9379093363917639 0.8741222823766777\n",
      "39 1.6515352237284844 0.8390984323587567\n",
      "40 -1.9761418710357763 0.12173071791337134\n",
      "41 1.5485662413239432 0.8247065560638468\n",
      "42 -1.4836682252211535 0.18487399477704203\n",
      "43 -1.1486807729464537 0.24073012774753616\n",
      "44 -1.3473768440093479 0.20629955659327573\n",
      "45 1.7188856161327337 0.8479852409729473\n",
      "46 -2.2426065458044144 0.09598911984395839\n",
      "47 -1.4614319569339942 0.18824840883084118\n",
      "48 -1.4674671965804154 0.18732789289546287\n",
      "49 2.6730155618970888 0.9354154510778478\n",
      "50 -1.406197713530056 0.19683446951467187\n",
      "51 2.148175548366728 0.8954981656608638\n",
      "52 1.5380737272219043 0.8231845273467797\n",
      "53 1.6761567529382222 0.8423949509254923\n",
      "54 -1.5329322744818294 0.17756506405337225\n",
      "55 -1.4529341971122791 0.18955040093271897\n",
      "56 1.5425751954244054 0.8238387710703023\n",
      "57 1.5724304974101955 0.8281298188992746\n",
      "58 1.7117030047237478 0.8470570413210964\n",
      "59 -1.3785052603987216 0.2012491687702056\n",
      "60 -1.6885539308331867 0.1559661069625319\n",
      "61 2.3370557668153196 0.9118998364966043\n",
      "62 1.5877388786634101 0.8302977412790794\n",
      "63 -1.3214879774442856 0.21057083933094917\n",
      "z2:8.723470340306548\n",
      "0.9998373049630619\n"
     ]
    }
   ],
   "source": [
    "data_point = x_test[0]\n",
    "print(compute_output_by_weight(data_point, weights))"
   ]
  },
  {
   "cell_type": "code",
   "execution_count": 10,
   "metadata": {},
   "outputs": [
    {
     "data": {
      "text/plain": [
       "784"
      ]
     },
     "execution_count": 10,
     "metadata": {},
     "output_type": "execute_result"
    }
   ],
   "source": [
    "len(weights[0])"
   ]
  },
  {
   "cell_type": "code",
   "execution_count": 11,
   "metadata": {},
   "outputs": [
    {
     "data": {
      "text/plain": [
       "0.027937025"
      ]
     },
     "execution_count": 11,
     "metadata": {},
     "output_type": "execute_result"
    }
   ],
   "source": [
    "weights[0][0][0]"
   ]
  },
  {
   "cell_type": "code",
   "execution_count": 32,
   "metadata": {},
   "outputs": [
    {
     "name": "stdout",
     "output_type": "stream",
     "text": [
      "0.19550614\n",
      "0.18299238\n",
      "0.15183985\n",
      "0.1490501\n",
      "0.15348421\n",
      "-0.1967776\n",
      "-0.19212602\n",
      "-0.17550483\n",
      "-0.19675587\n",
      "0.18355839\n",
      "0.18302464\n",
      "-0.14857928\n",
      "0.15127198\n",
      "-0.1565152\n",
      "0.19835603\n",
      "0.19179423\n",
      "0.1603507\n",
      "0.14868261\n",
      "0.1524891\n",
      "0.12893803\n",
      "0.15651946\n",
      "0.1572804\n",
      "0.16083649\n",
      "-0.220862\n",
      "0.14284225\n",
      "0.15280357\n",
      "0.20909384\n",
      "0.14985813\n",
      "-0.20925581\n",
      "-0.1539407\n",
      "-0.15269047\n",
      "0.15413153\n",
      "-0.16002108\n",
      "-0.16585073\n",
      "0.16407321\n",
      "0.15151474\n",
      "0.19430858\n",
      "-0.1569914\n",
      "-0.14327994\n",
      "-0.16010475\n",
      "-0.14239517\n",
      "-0.15462334\n",
      "0.1600015\n",
      "-0.16614117\n",
      "-0.1975271\n",
      "-0.16345172\n",
      "-0.16263728\n",
      "0.17282203\n",
      "0.17572317\n",
      "-0.1545989\n",
      "-0.15428074\n",
      "-0.16630653\n",
      "-0.15993567\n",
      "0.21688364\n",
      "0.22011319\n",
      "-0.1521142\n",
      "0.1507878\n",
      "0.16647126\n",
      "-0.15587918\n",
      "-0.17712839\n",
      "0.161808\n",
      "-0.20197114\n",
      "0.15262972\n",
      "0.17443809\n"
     ]
    }
   ],
   "source": [
    "for i in range(len(weights[1])):\n",
    "        print(weights[1][i])"
   ]
  },
  {
   "cell_type": "code",
   "execution_count": 31,
   "metadata": {},
   "outputs": [
    {
     "name": "stdout",
     "output_type": "stream",
     "text": [
      "0.29599276\n",
      "0.32631713\n",
      "0.54180104\n",
      "0.48299828\n",
      "0.4418062\n",
      "-0.25009224\n",
      "-0.26255456\n",
      "-0.28972653\n",
      "-0.26959103\n",
      "0.348105\n",
      "0.2948175\n",
      "-0.33340284\n",
      "0.44595614\n",
      "-0.38044462\n",
      "0.3199096\n",
      "0.31665012\n",
      "0.4753405\n",
      "0.5242221\n",
      "0.46320173\n",
      "0.4796282\n",
      "0.41070753\n",
      "0.44911137\n",
      "0.38729963\n",
      "-0.28798977\n",
      "0.45597464\n",
      "0.477009\n",
      "0.308231\n",
      "0.49806178\n",
      "-0.28063798\n",
      "-0.4687638\n",
      "-0.44490987\n",
      "0.4917959\n",
      "-0.3932617\n",
      "-0.28350845\n",
      "0.39047703\n",
      "0.5082379\n",
      "0.3280227\n",
      "-0.36585948\n",
      "-0.42523184\n",
      "-0.4074847\n",
      "-0.43738484\n",
      "-0.44604006\n",
      "0.4617679\n",
      "-0.36324763\n",
      "-0.29375383\n",
      "-0.45835617\n",
      "-0.3515071\n",
      "0.4396817\n",
      "0.39581138\n",
      "-0.36762667\n",
      "-0.40645856\n",
      "-0.33712304\n",
      "-0.38579664\n",
      "0.34719884\n",
      "0.37487468\n",
      "-0.4582405\n",
      "0.35147443\n",
      "0.43008977\n",
      "-0.37173235\n",
      "-0.31126967\n",
      "0.42215422\n",
      "-0.2885715\n",
      "0.42578548\n",
      "0.35704643\n"
     ]
    }
   ],
   "source": [
    "for i in range(len(weights[2])):\n",
    "    for j in range(len(weights[2][i])):\n",
    "        print(weights[2][i][j])"
   ]
  },
  {
   "cell_type": "code",
   "execution_count": null,
   "metadata": {},
   "outputs": [],
   "source": []
  }
 ],
 "metadata": {
  "kernelspec": {
   "display_name": "Python 3",
   "language": "python",
   "name": "python3"
  },
  "language_info": {
   "codemirror_mode": {
    "name": "ipython",
    "version": 3
   },
   "file_extension": ".py",
   "mimetype": "text/x-python",
   "name": "python",
   "nbconvert_exporter": "python",
   "pygments_lexer": "ipython3",
   "version": "3.10.11"
  }
 },
 "nbformat": 4,
 "nbformat_minor": 2
}
